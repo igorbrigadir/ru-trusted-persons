{
 "cells": [
  {
   "cell_type": "code",
   "execution_count": 1,
   "metadata": {
    "collapsed": true
   },
   "outputs": [],
   "source": [
    "%matplotlib inline\n",
    "from bs4 import BeautifulSoup\n",
    "import pandas as pd\n",
    "import dateparser\n",
    "import missingno as msno\n",
    "import re\n",
    "import operator\n",
    "import itertools\n",
    "from string import capwords # trim, titlecase https://docs.python.org/3/library/string.html#string.capwords"
   ]
  },
  {
   "cell_type": "code",
   "execution_count": 2,
   "metadata": {
    "collapsed": true
   },
   "outputs": [],
   "source": [
    "cols = ['source','year','name','dob','desc']"
   ]
  },
  {
   "cell_type": "markdown",
   "metadata": {},
   "source": [
    "# 2018 list"
   ]
  },
  {
   "cell_type": "code",
   "execution_count": 3,
   "metadata": {
    "collapsed": true
   },
   "outputs": [],
   "source": [
    "def clean_name(string):\n",
    "    return capwords(string.replace('.','')).title()"
   ]
  },
  {
   "cell_type": "code",
   "execution_count": 4,
   "metadata": {
    "scrolled": false
   },
   "outputs": [
    {
     "name": "stdout",
     "output_type": "stream",
     "text": [
      "putin2018.ru 487\n"
     ]
    },
    {
     "data": {
      "text/html": [
       "<div>\n",
       "<style scoped>\n",
       "    .dataframe tbody tr th:only-of-type {\n",
       "        vertical-align: middle;\n",
       "    }\n",
       "\n",
       "    .dataframe tbody tr th {\n",
       "        vertical-align: top;\n",
       "    }\n",
       "\n",
       "    .dataframe thead th {\n",
       "        text-align: right;\n",
       "    }\n",
       "</style>\n",
       "<table border=\"1\" class=\"dataframe\">\n",
       "  <thead>\n",
       "    <tr style=\"text-align: right;\">\n",
       "      <th></th>\n",
       "      <th>source</th>\n",
       "      <th>year</th>\n",
       "      <th>name</th>\n",
       "      <th>dob</th>\n",
       "      <th>desc</th>\n",
       "    </tr>\n",
       "  </thead>\n",
       "  <tbody>\n",
       "    <tr>\n",
       "      <th>402</th>\n",
       "      <td>putin2018</td>\n",
       "      <td>2018</td>\n",
       "      <td>Стриханов Михаил Николаевич</td>\n",
       "      <td>None</td>\n",
       "      <td>Ректор МИФИ</td>\n",
       "    </tr>\n",
       "    <tr>\n",
       "      <th>14</th>\n",
       "      <td>putin2018</td>\n",
       "      <td>2018</td>\n",
       "      <td>Андреев Александр Вадимович</td>\n",
       "      <td>None</td>\n",
       "      <td>Генеральный директор ОАО «Международный аэропо...</td>\n",
       "    </tr>\n",
       "    <tr>\n",
       "      <th>466</th>\n",
       "      <td>putin2018</td>\n",
       "      <td>2018</td>\n",
       "      <td>Шишкина Алла Анатольевна</td>\n",
       "      <td>None</td>\n",
       "      <td>Спортсмен СШОР по синхронному плаванию ГБУ \"МГ...</td>\n",
       "    </tr>\n",
       "    <tr>\n",
       "      <th>326</th>\n",
       "      <td>putin2018</td>\n",
       "      <td>2018</td>\n",
       "      <td>Перфилова Валерия Юрьевна</td>\n",
       "      <td>None</td>\n",
       "      <td>Российская эстрадная певица (Валерия), Народна...</td>\n",
       "    </tr>\n",
       "    <tr>\n",
       "      <th>219</th>\n",
       "      <td>putin2018</td>\n",
       "      <td>2018</td>\n",
       "      <td>Крутой Игорь Яковлевич</td>\n",
       "      <td>None</td>\n",
       "      <td>Композитор</td>\n",
       "    </tr>\n",
       "  </tbody>\n",
       "</table>\n",
       "</div>"
      ],
      "text/plain": [
       "        source  year                         name   dob  \\\n",
       "402  putin2018  2018  Стриханов Михаил Николаевич  None   \n",
       "14   putin2018  2018  Андреев Александр Вадимович  None   \n",
       "466  putin2018  2018     Шишкина Алла Анатольевна  None   \n",
       "326  putin2018  2018    Перфилова Валерия Юрьевна  None   \n",
       "219  putin2018  2018       Крутой Игорь Яковлевич  None   \n",
       "\n",
       "                                                  desc  \n",
       "402                                        Ректор МИФИ  \n",
       "14   Генеральный директор ОАО «Международный аэропо...  \n",
       "466  Спортсмен СШОР по синхронному плаванию ГБУ \"МГ...  \n",
       "326  Российская эстрадная певица (Валерия), Народна...  \n",
       "219                                         Композитор  "
      ]
     },
     "execution_count": 4,
     "metadata": {},
     "output_type": "execute_result"
    }
   ],
   "source": [
    "# Extract from http://putin2018.ru/trusted/ html:\n",
    "def extract_from_html(e):\n",
    "    name = clean_name(e.select('a')[0].extract().text)\n",
    "    desc = e.text.strip()\n",
    "    return (\"putin2018\", None, name, None, desc)\n",
    "\n",
    "with open(\"data/raw/putin2018_trusted.html\") as f:\n",
    "    soup = BeautifulSoup(f.read(), \"lxml\")\n",
    "    entries = soup.select('li.person-by-alphabet-list_item')\n",
    "    df_2018_putinru = pd.DataFrame([extract_from_html(e) for e in entries], columns=cols)\n",
    "    df_2018_putinru['year'] = '2018'\n",
    "\n",
    "print(\"putin2018.ru\", len(df_2018_putinru))\n",
    "df_2018_putinru.sample(5)"
   ]
  },
  {
   "cell_type": "markdown",
   "metadata": {},
   "source": [
    "# 2018 list from cikrf"
   ]
  },
  {
   "cell_type": "code",
   "execution_count": 5,
   "metadata": {
    "collapsed": true
   },
   "outputs": [],
   "source": [
    "def cikrf_df(files, func):\n",
    "    df = pd.DataFrame(columns=cols)\n",
    "    for file in files:\n",
    "        with open('data/raw/'+file) as f:\n",
    "            text = f.read()\n",
    "            text = text.replace('№ ', '№') # Make splitting easier\n",
    "            #text = text.replace('–', '—') # ndash with mdash\n",
    "            list_ = re.compile('\\s\\d+\\.').split(text)\n",
    "            list_ = list_[1:] # skip header\n",
    "\n",
    "            df_ = pd.DataFrame([func(e) for e in list_], columns=cols)        \n",
    "            df_['source'] = file.replace('.txt','')\n",
    "\n",
    "            df = df.append(df_, ignore_index=True)\n",
    "            print(file, '+', len(df_), '\\t', len(df))\n",
    "\n",
    "    return df"
   ]
  },
  {
   "cell_type": "code",
   "execution_count": 6,
   "metadata": {
    "collapsed": true
   },
   "outputs": [],
   "source": [
    "def extract_2018_txt(el):\n",
    "    name = clean_name(el)\n",
    "    return (None, '2018', name, None, None)"
   ]
  },
  {
   "cell_type": "code",
   "execution_count": 7,
   "metadata": {},
   "outputs": [
    {
     "name": "stdout",
     "output_type": "stream",
     "text": [
      "126-1057-7.txt + 259 \t 259\n",
      "131-1085-7.txt + 154 \t 413\n",
      "134-1108-7.txt + 62 \t 475\n",
      "144-1192-7.txt + 16 \t 491\n"
     ]
    },
    {
     "data": {
      "text/html": [
       "<div>\n",
       "<style scoped>\n",
       "    .dataframe tbody tr th:only-of-type {\n",
       "        vertical-align: middle;\n",
       "    }\n",
       "\n",
       "    .dataframe tbody tr th {\n",
       "        vertical-align: top;\n",
       "    }\n",
       "\n",
       "    .dataframe thead th {\n",
       "        text-align: right;\n",
       "    }\n",
       "</style>\n",
       "<table border=\"1\" class=\"dataframe\">\n",
       "  <thead>\n",
       "    <tr style=\"text-align: right;\">\n",
       "      <th></th>\n",
       "      <th>source</th>\n",
       "      <th>year</th>\n",
       "      <th>name</th>\n",
       "      <th>dob</th>\n",
       "      <th>desc</th>\n",
       "    </tr>\n",
       "  </thead>\n",
       "  <tbody>\n",
       "    <tr>\n",
       "      <th>208</th>\n",
       "      <td>126-1057-7</td>\n",
       "      <td>2018</td>\n",
       "      <td>Симоньян Маргарита Симоновна</td>\n",
       "      <td>None</td>\n",
       "      <td>None</td>\n",
       "    </tr>\n",
       "    <tr>\n",
       "      <th>410</th>\n",
       "      <td>131-1085-7</td>\n",
       "      <td>2018</td>\n",
       "      <td>Эйфман Борис Яковлевич</td>\n",
       "      <td>None</td>\n",
       "      <td>None</td>\n",
       "    </tr>\n",
       "    <tr>\n",
       "      <th>236</th>\n",
       "      <td>126-1057-7</td>\n",
       "      <td>2018</td>\n",
       "      <td>Халиков Тимур Рафаэлевич</td>\n",
       "      <td>None</td>\n",
       "      <td>None</td>\n",
       "    </tr>\n",
       "    <tr>\n",
       "      <th>267</th>\n",
       "      <td>131-1085-7</td>\n",
       "      <td>2018</td>\n",
       "      <td>Бакулина Марина Олеговна</td>\n",
       "      <td>None</td>\n",
       "      <td>None</td>\n",
       "    </tr>\n",
       "    <tr>\n",
       "      <th>450</th>\n",
       "      <td>134-1108-7</td>\n",
       "      <td>2018</td>\n",
       "      <td>Петреня Юрий Кирилович</td>\n",
       "      <td>None</td>\n",
       "      <td>None</td>\n",
       "    </tr>\n",
       "  </tbody>\n",
       "</table>\n",
       "</div>"
      ],
      "text/plain": [
       "         source  year                          name   dob  desc\n",
       "208  126-1057-7  2018  Симоньян Маргарита Симоновна  None  None\n",
       "410  131-1085-7  2018        Эйфман Борис Яковлевич  None  None\n",
       "236  126-1057-7  2018      Халиков Тимур Рафаэлевич  None  None\n",
       "267  131-1085-7  2018      Бакулина Марина Олеговна  None  None\n",
       "450  134-1108-7  2018        Петреня Юрий Кирилович  None  None"
      ]
     },
     "execution_count": 7,
     "metadata": {},
     "output_type": "execute_result"
    }
   ],
   "source": [
    "files2018 = ['126-1057-7.txt','131-1085-7.txt','134-1108-7.txt','144-1192-7.txt']\n",
    "df_2018_cikrf = cikrf_df(files2018, extract_2018_txt)\n",
    "df_2018_cikrf.sample(5)"
   ]
  },
  {
   "cell_type": "markdown",
   "metadata": {},
   "source": [
    "# 2012 list"
   ]
  },
  {
   "cell_type": "code",
   "execution_count": 8,
   "metadata": {
    "collapsed": true
   },
   "outputs": [],
   "source": [
    "def extract_2012_txt(el):\n",
    "    e = el.strip().replace('\\n',' ').replace('\\t',' ').replace('  ',' ')\n",
    "    elements = e.replace(', дата рождения','').replace(' года, основное место работы ','').split('\\uf02d')\n",
    "    name = clean_name(elements[0])\n",
    "    dob = dateparser.parse(elements[1])\n",
    "    desc = elements[2].strip()\n",
    "    return (None, '2012', name, dob, desc)"
   ]
  },
  {
   "cell_type": "code",
   "execution_count": 9,
   "metadata": {
    "scrolled": false
   },
   "outputs": [
    {
     "name": "stdout",
     "output_type": "stream",
     "text": [
      "96-767-6.txt + 499 \t 499\n",
      "98-785-6.txt + 4 \t 503\n",
      "100-798-6.txt + 17 \t 520\n",
      "107-858-6.txt + 8 \t 528\n"
     ]
    },
    {
     "data": {
      "text/html": [
       "<div>\n",
       "<style scoped>\n",
       "    .dataframe tbody tr th:only-of-type {\n",
       "        vertical-align: middle;\n",
       "    }\n",
       "\n",
       "    .dataframe tbody tr th {\n",
       "        vertical-align: top;\n",
       "    }\n",
       "\n",
       "    .dataframe thead th {\n",
       "        text-align: right;\n",
       "    }\n",
       "</style>\n",
       "<table border=\"1\" class=\"dataframe\">\n",
       "  <thead>\n",
       "    <tr style=\"text-align: right;\">\n",
       "      <th></th>\n",
       "      <th>source</th>\n",
       "      <th>year</th>\n",
       "      <th>name</th>\n",
       "      <th>dob</th>\n",
       "      <th>desc</th>\n",
       "    </tr>\n",
       "  </thead>\n",
       "  <tbody>\n",
       "    <tr>\n",
       "      <th>13</th>\n",
       "      <td>96-767-6</td>\n",
       "      <td>2012</td>\n",
       "      <td>Антимонова Марина Юрьевна</td>\n",
       "      <td>1966-06-14</td>\n",
       "      <td>муниципальное медицинское бюджетное учреждение...</td>\n",
       "    </tr>\n",
       "    <tr>\n",
       "      <th>382</th>\n",
       "      <td>96-767-6</td>\n",
       "      <td>2012</td>\n",
       "      <td>Садыков Союн Касумович</td>\n",
       "      <td>1960-03-05</td>\n",
       "      <td>ООО СК \"Мосреконструкция\", генеральный директор.</td>\n",
       "    </tr>\n",
       "    <tr>\n",
       "      <th>345</th>\n",
       "      <td>96-767-6</td>\n",
       "      <td>2012</td>\n",
       "      <td>Першилин Константин Георгиевич</td>\n",
       "      <td>1934-01-01</td>\n",
       "      <td>открытое акционерное общество племзавод \"Учхоз...</td>\n",
       "    </tr>\n",
       "    <tr>\n",
       "      <th>218</th>\n",
       "      <td>96-767-6</td>\n",
       "      <td>2012</td>\n",
       "      <td>Корнеева Надежда Анатольевна</td>\n",
       "      <td>1958-09-19</td>\n",
       "      <td>Политическая партия \"ПАТРИОТЫ РОССИИ\", председ...</td>\n",
       "    </tr>\n",
       "    <tr>\n",
       "      <th>390</th>\n",
       "      <td>96-767-6</td>\n",
       "      <td>2012</td>\n",
       "      <td>Селиверстов Николай Иванович</td>\n",
       "      <td>1947-04-26</td>\n",
       "      <td>федеральное государственное бюджетное учрежден...</td>\n",
       "    </tr>\n",
       "  </tbody>\n",
       "</table>\n",
       "</div>"
      ],
      "text/plain": [
       "       source  year                            name        dob  \\\n",
       "13   96-767-6  2012       Антимонова Марина Юрьевна 1966-06-14   \n",
       "382  96-767-6  2012          Садыков Союн Касумович 1960-03-05   \n",
       "345  96-767-6  2012  Першилин Константин Георгиевич 1934-01-01   \n",
       "218  96-767-6  2012    Корнеева Надежда Анатольевна 1958-09-19   \n",
       "390  96-767-6  2012    Селиверстов Николай Иванович 1947-04-26   \n",
       "\n",
       "                                                  desc  \n",
       "13   муниципальное медицинское бюджетное учреждение...  \n",
       "382   ООО СК \"Мосреконструкция\", генеральный директор.  \n",
       "345  открытое акционерное общество племзавод \"Учхоз...  \n",
       "218  Политическая партия \"ПАТРИОТЫ РОССИИ\", председ...  \n",
       "390  федеральное государственное бюджетное учрежден...  "
      ]
     },
     "execution_count": 9,
     "metadata": {},
     "output_type": "execute_result"
    }
   ],
   "source": [
    "# manually \"cleaned\"\n",
    "files2012 = ['96-767-6.txt','98-785-6.txt','100-798-6.txt','107-858-6.txt']\n",
    "df_2012_cikrf = cikrf_df(files2012, extract_2012_txt)\n",
    "df_2012_cikrf.sample(5)"
   ]
  },
  {
   "cell_type": "code",
   "execution_count": 10,
   "metadata": {},
   "outputs": [
    {
     "name": "stderr",
     "output_type": "stream",
     "text": [
      "/home/igor/anaconda3/lib/python3.6/site-packages/pandas/io/formats/format.py:1586: FutureWarning: \n",
      "Passing list-likes to .loc or [] with any missing label will raise\n",
      "KeyError in the future, you can use .reindex() as an alternative.\n",
      "\n",
      "See the documentation here:\n",
      "http://pandas.pydata.org/pandas-docs/stable/indexing.html#deprecate-loc-reindex-listlike\n",
      "  self.obj = self.obj.loc[:, cols]\n",
      "/home/igor/anaconda3/lib/python3.6/site-packages/pandas/core/indexing.py:1367: FutureWarning: \n",
      "Passing list-likes to .loc or [] with any missing label will raise\n",
      "KeyError in the future, you can use .reindex() as an alternative.\n",
      "\n",
      "See the documentation here:\n",
      "http://pandas.pydata.org/pandas-docs/stable/indexing.html#deprecate-loc-reindex-listlike\n",
      "  return self._getitem_tuple(key)\n"
     ]
    }
   ],
   "source": [
    "cols_extended = [\"source\",\"name\",\"dob\",\"desc\", # gathered\n",
    "                 \"wikidata\",\"email\",\"vk\",\"ig\",\"fb\",\"tw\",\"yt\",\"ok\",\"zampolit\",\"sanctioned\" # possible?\n",
    "                ]\n",
    "\n",
    "df_2012_cikrf.to_csv('data/csv/2012_cikrf.csv', index=False, columns=cols_extended)\n",
    "df_2018_cikrf.to_csv('data/csv/2018_cikrf.csv', index=False, columns=cols_extended)\n",
    "df_2018_putinru.to_csv('data/csv/2018_putinru.csv', index=False, columns=cols_extended)"
   ]
  },
  {
   "cell_type": "code",
   "execution_count": 11,
   "metadata": {
    "collapsed": true
   },
   "outputs": [],
   "source": [
    "# Names only:\n",
    "df_2012_cikrf.sort_values(by=['name'])['name'].to_csv('data/names/2012_cikrf_names.txt', index=False, header=False)\n",
    "df_2018_cikrf.sort_values(by=['name'])['name'].to_csv('data/names/2018_cikrf_names.txt', index=False, header=False)\n",
    "df_2018_putinru.sort_values(by=['name'])['name'].to_csv('data/names/2018_putinru_names.txt', index=False, header=False)"
   ]
  },
  {
   "cell_type": "markdown",
   "metadata": {},
   "source": [
    "# Merge Names"
   ]
  },
  {
   "cell_type": "code",
   "execution_count": 20,
   "metadata": {},
   "outputs": [
    {
     "name": "stdout",
     "output_type": "stream",
     "text": [
      "1036\n"
     ]
    },
    {
     "data": {
      "text/html": [
       "<div>\n",
       "<style scoped>\n",
       "    .dataframe tbody tr th:only-of-type {\n",
       "        vertical-align: middle;\n",
       "    }\n",
       "\n",
       "    .dataframe tbody tr th {\n",
       "        vertical-align: top;\n",
       "    }\n",
       "\n",
       "    .dataframe thead th {\n",
       "        text-align: right;\n",
       "    }\n",
       "</style>\n",
       "<table border=\"1\" class=\"dataframe\">\n",
       "  <thead>\n",
       "    <tr style=\"text-align: right;\">\n",
       "      <th></th>\n",
       "      <th>source</th>\n",
       "      <th>year</th>\n",
       "      <th>name</th>\n",
       "      <th>dob</th>\n",
       "      <th>desc</th>\n",
       "    </tr>\n",
       "  </thead>\n",
       "  <tbody>\n",
       "    <tr>\n",
       "      <th>787</th>\n",
       "      <td>131-1085-7</td>\n",
       "      <td>2018</td>\n",
       "      <td>Абисов Юрий Николаевич</td>\n",
       "      <td>NaT</td>\n",
       "      <td>None</td>\n",
       "    </tr>\n",
       "    <tr>\n",
       "      <th>1019</th>\n",
       "      <td>putin2018</td>\n",
       "      <td>2018</td>\n",
       "      <td>Абисов Юрий Николаевич</td>\n",
       "      <td>NaT</td>\n",
       "      <td>Помощник Главы Республики Крым по связям с пра...</td>\n",
       "    </tr>\n",
       "    <tr>\n",
       "      <th>788</th>\n",
       "      <td>131-1085-7</td>\n",
       "      <td>2018</td>\n",
       "      <td>Авербух Илья Изяславич</td>\n",
       "      <td>NaT</td>\n",
       "      <td>None</td>\n",
       "    </tr>\n",
       "    <tr>\n",
       "      <th>1020</th>\n",
       "      <td>putin2018</td>\n",
       "      <td>2018</td>\n",
       "      <td>Авербух Илья Изяславич</td>\n",
       "      <td>NaT</td>\n",
       "      <td>Российский фигурист. Заслуженный мастер спорта...</td>\n",
       "    </tr>\n",
       "    <tr>\n",
       "      <th>1021</th>\n",
       "      <td>putin2018</td>\n",
       "      <td>2018</td>\n",
       "      <td>Аветисов Алексей Сергеевич</td>\n",
       "      <td>NaT</td>\n",
       "      <td>ФГБОУ \"Московский технологический университет\"...</td>\n",
       "    </tr>\n",
       "    <tr>\n",
       "      <th>528</th>\n",
       "      <td>126-1057-7</td>\n",
       "      <td>2018</td>\n",
       "      <td>Аветисов Алексей Сергеевич</td>\n",
       "      <td>NaT</td>\n",
       "      <td>None</td>\n",
       "    </tr>\n",
       "    <tr>\n",
       "      <th>529</th>\n",
       "      <td>126-1057-7</td>\n",
       "      <td>2018</td>\n",
       "      <td>Агафонова Любовь Викторовна</td>\n",
       "      <td>NaT</td>\n",
       "      <td>None</td>\n",
       "    </tr>\n",
       "    <tr>\n",
       "      <th>1022</th>\n",
       "      <td>putin2018</td>\n",
       "      <td>2018</td>\n",
       "      <td>Агафонова Любовь Викторовна</td>\n",
       "      <td>NaT</td>\n",
       "      <td>Государственное учреждение здравоохранения \"Ли...</td>\n",
       "    </tr>\n",
       "    <tr>\n",
       "      <th>1023</th>\n",
       "      <td>putin2018</td>\n",
       "      <td>2018</td>\n",
       "      <td>Айдуллин Иван Ухливанович</td>\n",
       "      <td>NaT</td>\n",
       "      <td>Мастер по капитальному ремонту скважин ОАО «Су...</td>\n",
       "    </tr>\n",
       "    <tr>\n",
       "      <th>941</th>\n",
       "      <td>134-1108-7</td>\n",
       "      <td>2018</td>\n",
       "      <td>Айдуллин Иван Ухливанович</td>\n",
       "      <td>NaT</td>\n",
       "      <td>None</td>\n",
       "    </tr>\n",
       "  </tbody>\n",
       "</table>\n",
       "</div>"
      ],
      "text/plain": [
       "          source  year                         name dob  \\\n",
       "787   131-1085-7  2018       Абисов Юрий Николаевич NaT   \n",
       "1019   putin2018  2018       Абисов Юрий Николаевич NaT   \n",
       "788   131-1085-7  2018       Авербух Илья Изяславич NaT   \n",
       "1020   putin2018  2018       Авербух Илья Изяславич NaT   \n",
       "1021   putin2018  2018   Аветисов Алексей Сергеевич NaT   \n",
       "528   126-1057-7  2018   Аветисов Алексей Сергеевич NaT   \n",
       "529   126-1057-7  2018  Агафонова Любовь Викторовна NaT   \n",
       "1022   putin2018  2018  Агафонова Любовь Викторовна NaT   \n",
       "1023   putin2018  2018    Айдуллин Иван Ухливанович NaT   \n",
       "941   134-1108-7  2018    Айдуллин Иван Ухливанович NaT   \n",
       "\n",
       "                                                   desc  \n",
       "787                                                None  \n",
       "1019  Помощник Главы Республики Крым по связям с пра...  \n",
       "788                                                None  \n",
       "1020  Российский фигурист. Заслуженный мастер спорта...  \n",
       "1021  ФГБОУ \"Московский технологический университет\"...  \n",
       "528                                                None  \n",
       "529                                                None  \n",
       "1022  Государственное учреждение здравоохранения \"Ли...  \n",
       "1023  Мастер по капитальному ремонту скважин ОАО «Су...  \n",
       "941                                                None  "
      ]
     },
     "execution_count": 20,
     "metadata": {},
     "output_type": "execute_result"
    }
   ],
   "source": [
    "df_merge = pd.concat([df_2012_cikrf, df_2018_cikrf, df_2018_putinru], ignore_index=True)\n",
    "\n",
    "dupes = df_merge[df_merge.duplicated(['name'], keep=False)].sort_values(by=['name'])\n",
    "print(len(dupes))\n",
    "dupes.head(10)"
   ]
  },
  {
   "cell_type": "code",
   "execution_count": 23,
   "metadata": {
    "collapsed": true
   },
   "outputs": [],
   "source": [
    "# Some manual replacements for known dupes:\n",
    "replacements = {\n",
    "    'Лагутинская Софья Владимировна': 'Лагутинская София Владимировна',\n",
    "    'Ласицкене Мария Александровна': 'Ласицкене (Кучина) Мария Александровна',\n",
    "    'Юнусов Тимур Ильдарович': 'Юнусов Тимур Ильдарович (Тимати)',\n",
    "    'Якубов Февзи': 'Якубов Февзи Якубович',\n",
    "    'Симонов Юрий Павлович': 'Симонов (Вяземский) Юрий Павлович',\n",
    "    'Ооржак Ошку-Саар Аракчеевна': 'Ооржак Ошку-Саар Аракчааевна',\n",
    "    'Назейкин Анатолии Георгиевич': 'Назейкин Анатолий Георгиевич',\n",
    "    'Львова-Белова Мария Александровна': 'Львова-Белова Мария Алексеевна',\n",
    "    'Гыштемулте Ефросиниа Николаевна': 'Гыштемулте Ефросиния Николаевна',\n",
    "    'Вележова Лидия Леонидовна': 'Вележева Лидия Леонидовна'\n",
    "}\n",
    "\n",
    "df_merge['name'].replace(replacements, inplace=True)"
   ]
  },
  {
   "cell_type": "code",
   "execution_count": 24,
   "metadata": {
    "collapsed": true
   },
   "outputs": [],
   "source": [
    "# can also be sorted(set()) but this works for unhashable types too\n",
    "def sort_uniq(sequence):\n",
    "    return map(operator.itemgetter(0), itertools.groupby(sorted(sequence)))\n",
    "\n",
    "def str_notblank(val):\n",
    "    return capwords(str(val)) != ''\n",
    "\n",
    "# Sort, unique, merge values, return list, or none, or single value\n",
    "def list_agg(vals):\n",
    "    #list_ = sorted(set([v for v in vals if pd.notnull(v) and pd.notna(v) and str_notblank(v)]))\n",
    "    list_ = list(sort_uniq([v for v in vals if pd.notnull(v) and pd.notna(v) and str_notblank(v)]))\n",
    "    if len(list_) == 0:\n",
    "        return None\n",
    "    #print(len(list_), list_)\n",
    "    if len(list_) == 1:\n",
    "        return list_[0]\n",
    "    return list_"
   ]
  },
  {
   "cell_type": "code",
   "execution_count": 25,
   "metadata": {},
   "outputs": [
    {
     "name": "stdout",
     "output_type": "stream",
     "text": [
      "931\n"
     ]
    },
    {
     "data": {
      "text/html": [
       "<div>\n",
       "<style scoped>\n",
       "    .dataframe tbody tr th:only-of-type {\n",
       "        vertical-align: middle;\n",
       "    }\n",
       "\n",
       "    .dataframe tbody tr th {\n",
       "        vertical-align: top;\n",
       "    }\n",
       "\n",
       "    .dataframe thead th {\n",
       "        text-align: right;\n",
       "    }\n",
       "</style>\n",
       "<table border=\"1\" class=\"dataframe\">\n",
       "  <thead>\n",
       "    <tr style=\"text-align: right;\">\n",
       "      <th></th>\n",
       "      <th>name</th>\n",
       "      <th>source</th>\n",
       "      <th>year</th>\n",
       "      <th>dob</th>\n",
       "      <th>desc</th>\n",
       "    </tr>\n",
       "  </thead>\n",
       "  <tbody>\n",
       "    <tr>\n",
       "      <th>646</th>\n",
       "      <td>Плющенко Евгений Викторович</td>\n",
       "      <td>[131-1085-7, 96-767-6, putin2018]</td>\n",
       "      <td>[2012, 2018]</td>\n",
       "      <td>1982-11-03</td>\n",
       "      <td>[Олимпийский чемпион по фигурному катанию., Фе...</td>\n",
       "    </tr>\n",
       "    <tr>\n",
       "      <th>85</th>\n",
       "      <td>Беляев Николай Александрович</td>\n",
       "      <td>[126-1057-7, putin2018]</td>\n",
       "      <td>2018</td>\n",
       "      <td>NaT</td>\n",
       "      <td>ГКОУ г. Москвы, КШИ №1 \"Первый Московский каде...</td>\n",
       "    </tr>\n",
       "    <tr>\n",
       "      <th>575</th>\n",
       "      <td>Невзоров Александр Глебович</td>\n",
       "      <td>96-767-6</td>\n",
       "      <td>2012</td>\n",
       "      <td>1958-08-03</td>\n",
       "      <td>ОАО \"Первый канал\", режиссер, советник генерал...</td>\n",
       "    </tr>\n",
       "    <tr>\n",
       "      <th>841</th>\n",
       "      <td>Хазанов Геннадий Викторович</td>\n",
       "      <td>96-767-6</td>\n",
       "      <td>2012</td>\n",
       "      <td>1945-12-01</td>\n",
       "      <td>Московский художественный театр эстрады, худож...</td>\n",
       "    </tr>\n",
       "    <tr>\n",
       "      <th>238</th>\n",
       "      <td>Данилов Константин Иванович</td>\n",
       "      <td>[131-1085-7, putin2018]</td>\n",
       "      <td>2018</td>\n",
       "      <td>NaT</td>\n",
       "      <td>Руководитель представительства ГК «Ростех» в Т...</td>\n",
       "    </tr>\n",
       "    <tr>\n",
       "      <th>928</th>\n",
       "      <td>Ястрикова Ольга Алексеевна</td>\n",
       "      <td>96-767-6</td>\n",
       "      <td>2012</td>\n",
       "      <td>1959-05-06</td>\n",
       "      <td>муниципальное бюджетное общеобразовательное уч...</td>\n",
       "    </tr>\n",
       "    <tr>\n",
       "      <th>117</th>\n",
       "      <td>Бугаев Сергей Анатольевич</td>\n",
       "      <td>96-767-6</td>\n",
       "      <td>2012</td>\n",
       "      <td>1966-03-28</td>\n",
       "      <td>Институт Нового Человека, председатель правления.</td>\n",
       "    </tr>\n",
       "    <tr>\n",
       "      <th>492</th>\n",
       "      <td>Макаров Сергей Афанасьевич</td>\n",
       "      <td>[131-1085-7, putin2018]</td>\n",
       "      <td>2018</td>\n",
       "      <td>NaT</td>\n",
       "      <td>Генерал-полковник, кавалер Ордена Святого Геор...</td>\n",
       "    </tr>\n",
       "    <tr>\n",
       "      <th>676</th>\n",
       "      <td>Пугин Николай Андреевич</td>\n",
       "      <td>[131-1085-7, putin2018]</td>\n",
       "      <td>2018</td>\n",
       "      <td>NaT</td>\n",
       "      <td>Президент ОАО «ГАЗ», член Общественной палаты ...</td>\n",
       "    </tr>\n",
       "    <tr>\n",
       "      <th>591</th>\n",
       "      <td>Носкова Ольга Юрьевна</td>\n",
       "      <td>96-767-6</td>\n",
       "      <td>2012</td>\n",
       "      <td>1982-07-09</td>\n",
       "      <td>КОГБУЗ \"Кировская детская городская клиническа...</td>\n",
       "    </tr>\n",
       "  </tbody>\n",
       "</table>\n",
       "</div>"
      ],
      "text/plain": [
       "                             name                             source  \\\n",
       "646   Плющенко Евгений Викторович  [131-1085-7, 96-767-6, putin2018]   \n",
       "85   Беляев Николай Александрович            [126-1057-7, putin2018]   \n",
       "575   Невзоров Александр Глебович                           96-767-6   \n",
       "841   Хазанов Геннадий Викторович                           96-767-6   \n",
       "238   Данилов Константин Иванович            [131-1085-7, putin2018]   \n",
       "928    Ястрикова Ольга Алексеевна                           96-767-6   \n",
       "117     Бугаев Сергей Анатольевич                           96-767-6   \n",
       "492    Макаров Сергей Афанасьевич            [131-1085-7, putin2018]   \n",
       "676       Пугин Николай Андреевич            [131-1085-7, putin2018]   \n",
       "591         Носкова Ольга Юрьевна                           96-767-6   \n",
       "\n",
       "             year        dob  \\\n",
       "646  [2012, 2018] 1982-11-03   \n",
       "85           2018        NaT   \n",
       "575          2012 1958-08-03   \n",
       "841          2012 1945-12-01   \n",
       "238          2018        NaT   \n",
       "928          2012 1959-05-06   \n",
       "117          2012 1966-03-28   \n",
       "492          2018        NaT   \n",
       "676          2018        NaT   \n",
       "591          2012 1982-07-09   \n",
       "\n",
       "                                                  desc  \n",
       "646  [Олимпийский чемпион по фигурному катанию., Фе...  \n",
       "85   ГКОУ г. Москвы, КШИ №1 \"Первый Московский каде...  \n",
       "575  ОАО \"Первый канал\", режиссер, советник генерал...  \n",
       "841  Московский художественный театр эстрады, худож...  \n",
       "238  Руководитель представительства ГК «Ростех» в Т...  \n",
       "928  муниципальное бюджетное общеобразовательное уч...  \n",
       "117  Институт Нового Человека, председатель правления.  \n",
       "492  Генерал-полковник, кавалер Ордена Святого Геор...  \n",
       "676  Президент ОАО «ГАЗ», член Общественной палаты ...  \n",
       "591  КОГБУЗ \"Кировская детская городская клиническа...  "
      ]
     },
     "execution_count": 25,
     "metadata": {},
     "output_type": "execute_result"
    }
   ],
   "source": [
    "dedupe_merge = df_merge.groupby(['name']).agg(lambda x: tuple(x)).applymap(list_agg).reset_index()\n",
    "print(len(dedupe_merge))\n",
    "dedupe_merge.sample(10)"
   ]
  },
  {
   "cell_type": "code",
   "execution_count": 26,
   "metadata": {},
   "outputs": [
    {
     "data": {
      "text/plain": [
       "<matplotlib.axes._subplots.AxesSubplot at 0x7f432a6d1c88>"
      ]
     },
     "execution_count": 26,
     "metadata": {},
     "output_type": "execute_result"
    },
    {
     "data": {
      "image/png": "[encoded data removed]",
      "text/plain": [
       "<matplotlib.figure.Figure at 0x7f432a216518>"
      ]
     },
     "metadata": {},
     "output_type": "display_data"
    }
   ],
   "source": [
    "# Missing Values\n",
    "msno.matrix(dedupe_merge)"
   ]
  },
  {
   "cell_type": "code",
   "execution_count": 27,
   "metadata": {
    "collapsed": true
   },
   "outputs": [],
   "source": [
    "dedupe_merge.sort_values(by=['name'])['name'].to_csv('data/names/merged_names.txt', index=False, header=False)"
   ]
  },
  {
   "cell_type": "code",
   "execution_count": 29,
   "metadata": {},
   "outputs": [
    {
     "data": {
      "text/html": [
       "<div>\n",
       "<style scoped>\n",
       "    .dataframe tbody tr th:only-of-type {\n",
       "        vertical-align: middle;\n",
       "    }\n",
       "\n",
       "    .dataframe tbody tr th {\n",
       "        vertical-align: top;\n",
       "    }\n",
       "\n",
       "    .dataframe thead th {\n",
       "        text-align: right;\n",
       "    }\n",
       "</style>\n",
       "<table border=\"1\" class=\"dataframe\">\n",
       "  <thead>\n",
       "    <tr style=\"text-align: right;\">\n",
       "      <th></th>\n",
       "      <th>name</th>\n",
       "      <th>source</th>\n",
       "      <th>year</th>\n",
       "      <th>dob</th>\n",
       "      <th>desc</th>\n",
       "    </tr>\n",
       "  </thead>\n",
       "  <tbody>\n",
       "    <tr>\n",
       "      <th>2</th>\n",
       "      <td>Абросимов Роман Владимирович</td>\n",
       "      <td>144-1192-7</td>\n",
       "      <td>2018</td>\n",
       "      <td>NaT</td>\n",
       "      <td>None</td>\n",
       "    </tr>\n",
       "    <tr>\n",
       "      <th>123</th>\n",
       "      <td>Бурт Анастасия Андреевна</td>\n",
       "      <td>134-1108-7</td>\n",
       "      <td>2018</td>\n",
       "      <td>NaT</td>\n",
       "      <td>None</td>\n",
       "    </tr>\n",
       "    <tr>\n",
       "      <th>179</th>\n",
       "      <td>Галустян Ншан Сергеевич</td>\n",
       "      <td>131-1085-7</td>\n",
       "      <td>2018</td>\n",
       "      <td>NaT</td>\n",
       "      <td>None</td>\n",
       "    </tr>\n",
       "    <tr>\n",
       "      <th>388</th>\n",
       "      <td>Кондрашов Андрей Олегович</td>\n",
       "      <td>126-1057-7</td>\n",
       "      <td>2018</td>\n",
       "      <td>NaT</td>\n",
       "      <td>None</td>\n",
       "    </tr>\n",
       "    <tr>\n",
       "      <th>506</th>\n",
       "      <td>Манучаров Вячеслав Рафаэлевич</td>\n",
       "      <td>131-1085-7</td>\n",
       "      <td>2018</td>\n",
       "      <td>NaT</td>\n",
       "      <td>None</td>\n",
       "    </tr>\n",
       "    <tr>\n",
       "      <th>545</th>\n",
       "      <td>Михалков Андрей Сергеевич</td>\n",
       "      <td>131-1085-7</td>\n",
       "      <td>2018</td>\n",
       "      <td>NaT</td>\n",
       "      <td>None</td>\n",
       "    </tr>\n",
       "    <tr>\n",
       "      <th>604</th>\n",
       "      <td>Омельченко Святослав Дмитриевич</td>\n",
       "      <td>126-1057-7</td>\n",
       "      <td>2018</td>\n",
       "      <td>NaT</td>\n",
       "      <td>None</td>\n",
       "    </tr>\n",
       "    <tr>\n",
       "      <th>631</th>\n",
       "      <td>Петреня Юрий Кирилович</td>\n",
       "      <td>134-1108-7</td>\n",
       "      <td>2018</td>\n",
       "      <td>NaT</td>\n",
       "      <td>None</td>\n",
       "    </tr>\n",
       "    <tr>\n",
       "      <th>637</th>\n",
       "      <td>Петросянц Евгений Ваганович</td>\n",
       "      <td>131-1085-7</td>\n",
       "      <td>2018</td>\n",
       "      <td>NaT</td>\n",
       "      <td>None</td>\n",
       "    </tr>\n",
       "    <tr>\n",
       "      <th>822</th>\n",
       "      <td>Устинова Варвара Михайловна</td>\n",
       "      <td>131-1085-7</td>\n",
       "      <td>2018</td>\n",
       "      <td>NaT</td>\n",
       "      <td>None</td>\n",
       "    </tr>\n",
       "    <tr>\n",
       "      <th>904</th>\n",
       "      <td>Шмаин Ефим Григорьевич</td>\n",
       "      <td>131-1085-7</td>\n",
       "      <td>2018</td>\n",
       "      <td>NaT</td>\n",
       "      <td>None</td>\n",
       "    </tr>\n",
       "  </tbody>\n",
       "</table>\n",
       "</div>"
      ],
      "text/plain": [
       "                                name      source  year dob  desc\n",
       "2       Абросимов Роман Владимирович  144-1192-7  2018 NaT  None\n",
       "123         Бурт Анастасия Андреевна  134-1108-7  2018 NaT  None\n",
       "179          Галустян Ншан Сергеевич  131-1085-7  2018 NaT  None\n",
       "388        Кондрашов Андрей Олегович  126-1057-7  2018 NaT  None\n",
       "506    Манучаров Вячеслав Рафаэлевич  131-1085-7  2018 NaT  None\n",
       "545        Михалков Андрей Сергеевич  131-1085-7  2018 NaT  None\n",
       "604  Омельченко Святослав Дмитриевич  126-1057-7  2018 NaT  None\n",
       "631           Петреня Юрий Кирилович  134-1108-7  2018 NaT  None\n",
       "637      Петросянц Евгений Ваганович  131-1085-7  2018 NaT  None\n",
       "822      Устинова Варвара Михайловна  131-1085-7  2018 NaT  None\n",
       "904           Шмаин Ефим Григорьевич  131-1085-7  2018 NaT  None"
      ]
     },
     "execution_count": 29,
     "metadata": {},
     "output_type": "execute_result"
    }
   ],
   "source": [
    "dedupe_merge[pd.isna(dedupe_merge['desc'])]"
   ]
  },
  {
   "cell_type": "code",
   "execution_count": null,
   "metadata": {
    "collapsed": true
   },
   "outputs": [],
   "source": []
  }
 ],
 "metadata": {
  "kernelspec": {
   "display_name": "Python 3",
   "language": "python",
   "name": "python3"
  },
  "language_info": {
   "codemirror_mode": {
    "name": "ipython",
    "version": 3
   },
   "file_extension": ".py",
   "mimetype": "text/x-python",
   "name": "python",
   "nbconvert_exporter": "python",
   "pygments_lexer": "ipython3",
   "version": "3.6.1"
  }
 },
 "nbformat": 4,
 "nbformat_minor": 2
}
